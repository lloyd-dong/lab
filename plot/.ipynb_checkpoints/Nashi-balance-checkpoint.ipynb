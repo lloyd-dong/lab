{
 "cells": [
  {
   "cell_type": "code",
   "execution_count": 1,
   "metadata": {
    "collapsed": false
   },
   "outputs": [
    {
     "name": "stderr",
     "output_type": "stream",
     "text": [
      "/Users/bodong/anaconda/lib/python2.7/site-packages/matplotlib/font_manager.py:273: UserWarning: Matplotlib is building the font cache using fc-list. This may take a moment.\n",
      "  warnings.warn('Matplotlib is building the font cache using fc-list. This may take a moment.')\n"
     ]
    }
   ],
   "source": [
    "'''\n",
    "======================\n",
    "3D surface (color map)\n",
    "======================\n",
    "\n",
    "Demonstrates plotting a 3D surface colored with the coolwarm color map.\n",
    "The surface is made opaque by using antialiased=False.\n",
    "\n",
    "Also demonstrates using the LinearLocator and custom formatting for the\n",
    "z axis tick labels.\n",
    "'''\n",
    "\n",
    "from mpl_toolkits.mplot3d import Axes3D\n",
    "import matplotlib.pyplot as plt\n",
    "from matplotlib import cm\n",
    "from matplotlib.ticker import LinearLocator, FormatStrFormatter\n",
    "import numpy as np\n",
    "\n",
    "\n",
    "fig = plt.figure()\n",
    "ax = fig.gca(projection='3d')\n",
    "\n",
    "# Make data.\n",
    "X = np.arange(-5, 5, 0.25)\n",
    "Y = np.arange(-5, 5, 0.25)\n",
    "\n",
    "\n",
    "# X is an array, X2 is an mesh, including X coordinate for each point in the Mesh\n",
    "print(X)\n",
    "X2, Y2=np.meshgrid(X, Y)\n",
    "print X2 "
   ]
  },
  {
   "cell_type": "code",
   "execution_count": null,
   "metadata": {
    "collapsed": false,
    "scrolled": true
   },
   "outputs": [],
   "source": [
    "import numpy as np\n",
    "import matplotlib.pyplot as plt\n",
    " \n",
    "plt.figure(1) # 创建图表1\n",
    "plt.figure(2) # 创建图表2\n",
    "ax1 = plt.subplot(211) # 在图表2中创建子图1\n",
    "ax2 = plt.subplot(212) # 在图表2中创建子图2\n",
    " \n",
    "x = np.linspace(0, 3, 100)\n",
    "\n",
    " \n"
   ]
  },
  {
   "cell_type": "code",
   "execution_count": 3,
   "metadata": {
    "collapsed": false
   },
   "outputs": [
    {
     "name": "stdout",
     "output_type": "stream",
     "text": [
      "[[-5.   -4.75 -4.5  ...,  4.25  4.5   4.75]\n",
      " [-5.   -4.75 -4.5  ...,  4.25  4.5   4.75]\n",
      " [-5.   -4.75 -4.5  ...,  4.25  4.5   4.75]\n",
      " ..., \n",
      " [-5.   -4.75 -4.5  ...,  4.25  4.5   4.75]\n",
      " [-5.   -4.75 -4.5  ...,  4.25  4.5   4.75]\n",
      " [-5.   -4.75 -4.5  ...,  4.25  4.5   4.75]]\n"
     ]
    }
   ],
   "source": [
    "for i in xrange(5):\n",
    "    plt.figure(1)  #❶ # 选择图表1\n",
    "    plt.plot(x, np.exp(i*x/3))\n",
    "    plt.sca(ax1)   #❷ # 选择图表2的子图1\n",
    "    plt.plot(x, np.sin(i*x))\n",
    "    plt.sca(ax2)  # 选择图表2的子图2\n",
    "    plt.plot(x, np.cos(i*x))\n",
    "plt.show()"
   ]
  },
  {
   "cell_type": "code",
   "execution_count": null,
   "metadata": {
    "collapsed": true
   },
   "outputs": [],
   "source": [
    "X, Y = np.meshgrid(X, Y)\n",
    "R = np.sqrt(X**2 + Y**2)\n",
    "Z = np.sin(R)\n",
    "\n",
    "# Plot the surface.\n",
    "surf = ax.plot_surface(X, Y, Z, cmap=cm.coolwarm,\n",
    "                       linewidth=0, antialiased=False)\n",
    "\n",
    "# Customize the z axis.\n",
    "ax.set_zlim(-1.01, 1.01)\n",
    "ax.zaxis.set_major_locator(LinearLocator(10))\n",
    "ax.zaxis.set_major_formatter(FormatStrFormatter('%.02f'))\n",
    "\n",
    "# Add a color bar which maps values to colors.\n",
    "fig.colorbar(surf, shrink=0.5, aspect=5)\n",
    "\n",
    "plt.show()\n",
    "\n"
   ]
  }
 ],
 "metadata": {
  "kernelspec": {
   "display_name": "Python 2",
   "language": "python",
   "name": "python2"
  },
  "language_info": {
   "codemirror_mode": {
    "name": "ipython",
    "version": 2
   },
   "file_extension": ".py",
   "mimetype": "text/x-python",
   "name": "python",
   "nbconvert_exporter": "python",
   "pygments_lexer": "ipython2",
   "version": "2.7.11"
  }
 },
 "nbformat": 4,
 "nbformat_minor": 0
}
