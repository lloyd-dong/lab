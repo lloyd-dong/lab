{
 "cells": [
  {
   "cell_type": "code",
   "execution_count": 2,
   "metadata": {
    "collapsed": true
   },
   "outputs": [],
   "source": [
    "class P:\n",
    "    def _internal_method(self,number):\n",
    "        return \">0\" if number >0 else \"<=0\"\n",
    "            \n",
    "    def main_method(self):\n",
    "        print \"in main_method\"\n",
    "        self._internal_method(13)     \n",
    "\n",
    "    @staticmethod\n",
    "    def s_method():\n",
    "        print \"static method\""
   ]
  }
 ],
 "metadata": {
  "kernelspec": {
   "display_name": "Python 2",
   "language": "python",
   "name": "python2"
  },
  "language_info": {
   "codemirror_mode": {
    "name": "ipython",
    "version": 2
   },
   "file_extension": ".py",
   "mimetype": "text/x-python",
   "name": "python",
   "nbconvert_exporter": "python",
   "pygments_lexer": "ipython2",
   "version": "2.7.13"
  }
 },
 "nbformat": 4,
 "nbformat_minor": 2
}
