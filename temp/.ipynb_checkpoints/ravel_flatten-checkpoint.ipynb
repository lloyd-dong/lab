{
 "cells": [
  {
   "cell_type": "code",
   "execution_count": 2,
   "metadata": {
    "collapsed": true
   },
   "outputs": [],
   "source": [
    "import numpy as np"
   ]
  },
  {
   "cell_type": "markdown",
   "metadata": {},
   "source": [
    "# 把数组变成1维\n",
    "- flatten() 返回 copy\n",
    "- a.flat 返回iterator\n",
    "- ravel() 返回 view\n",
    "- reshape(-1), 返回值尽可能是view\n"
   ]
  },
  {
   "cell_type": "code",
   "execution_count": 9,
   "metadata": {
    "collapsed": false
   },
   "outputs": [],
   "source": [
    "#a=np.eye(4)\n",
    "a = np.array([[1,2], [3,4]])\n",
    "#a=np.array([[1],[2],[3], [4]])\n",
    "b=a.flatten()\n",
    "c=a.ravel()\n",
    "d=a.reshape(-1)"
   ]
  },
  {
   "cell_type": "code",
   "execution_count": 10,
   "metadata": {
    "collapsed": false
   },
   "outputs": [
    {
     "name": "stdout",
     "output_type": "stream",
     "text": [
      "[[1 2]\n",
      " [3 4]] \n",
      "-------\n",
      "<numpy.flatiter object at 0x0000000002FF6720> \n",
      "-------\n",
      "[1 2 3 4] \n",
      "-------\n",
      "[1 2 3 4] \n",
      "-------\n",
      "[1 2 3 4] \n",
      "-------\n"
     ]
    }
   ],
   "source": [
    "print a, '\\n-------'\n",
    "print a.flat, '\\n-------'\n",
    "print b, '\\n-------'\n",
    "print c, '\\n-------'\n",
    "print d, '\\n-------'"
   ]
  },
  {
   "cell_type": "code",
   "execution_count": 19,
   "metadata": {
    "collapsed": false
   },
   "outputs": [
    {
     "name": "stdout",
     "output_type": "stream",
     "text": [
      "[[1 2]\n",
      " [3 4]] \n",
      "-------\n",
      "[[1 2]\n",
      " [3 4]] \n",
      "-------\n",
      "[[1 2]\n",
      " [0 4]] \n",
      "-------\n",
      "[[1 2]\n",
      " [0 0]]\n"
     ]
    }
   ],
   "source": [
    "print(a),'\\n-------'\n",
    "b[1]=0\n",
    "print(a),'\\n-------'\n",
    "c[2]=0\n",
    "print(a),'\\n-------'\n",
    "d[3]=0\n",
    "print a"
   ]
  },
  {
   "cell_type": "markdown",
   "metadata": {},
   "source": [
    "# The following is test of reshape \n",
    "draw a [] first, then\n",
    "* the first dimension determines how many rows, i.e. how many \",\"(1st -1) in the outside [] \n",
    "* the 2nd dimension determines how many columns, i.e. how many \",\" in the 2nd layer []\n",
    "* the 3rd one determines how many elements in the last []"
   ]
  },
  {
   "cell_type": "code",
   "execution_count": 8,
   "metadata": {
    "collapsed": false
   },
   "outputs": [
    {
     "name": "stdout",
     "output_type": "stream",
     "text": [
      "[[[0]]\n",
      "\n",
      " [[1]]] \n",
      "-------\n",
      "[[[0]\n",
      "  [1]\n",
      "  [2]]] \n",
      "-------\n",
      "[[[0 1 2 3 4]]] \n",
      "-------\n"
     ]
    }
   ],
   "source": [
    "x = np.arange(2).reshape((2,1,1))\n",
    "y = np.arange(3).reshape((1,3,1))\n",
    "z = np.arange(5).reshape((1,1,5))\n",
    "print x,'\\n-------'\n",
    "print y,'\\n-------'\n",
    "print z,'\\n-------'"
   ]
  },
  {
   "cell_type": "markdown",
   "metadata": {},
   "source": [
    "# np.stack( flat, axis=1), zip(), np.hstack()\n",
    "* zip(a,b) return tuple\n",
    "* stack((a,b) axis=1) 返回 array。a,b 要求shape相同。a.flat, b.flat 返回2 D，其他情况会增加数组层次\n",
    "* hstack(), 返回数组，不改变组数层次"
   ]
  },
  {
   "cell_type": "code",
   "execution_count": 27,
   "metadata": {
    "collapsed": false,
    "scrolled": true
   },
   "outputs": [
    {
     "name": "stdout",
     "output_type": "stream",
     "text": [
      "hstack: \n",
      "[[1 2]\n",
      " [2 3]\n",
      " [3 4]]\n",
      "stack a.flat \n",
      "[[1 2 1]\n",
      " [2 3 2]\n",
      " [3 4 3]]\n",
      "stack without flat \n",
      "[[[1]\n",
      "  [2]]\n",
      "\n",
      " [[2]\n",
      "  [3]]\n",
      "\n",
      " [[3]\n",
      "  [4]]]\n",
      "zip \n",
      "[(array([1]), array([2])), (array([2]), array([3])), (array([3]), array([4]))]\n"
     ]
    }
   ],
   "source": [
    "a = np.array([[1],[2],[3]])\n",
    "b = np.array([[2],[3],[4]])\n",
    "print 'hstack: \\n',np.hstack((a,b))\n",
    "print 'stack a.flat \\n', np.stack((a.flat,b.flat,a.flat),axis=1)\n",
    "print 'stack without flat \\n', np.stack((a,b),axis=1) #没有flat 会导致加深一层数组\n",
    "print 'zip \\n', zip(a,b)"
   ]
  },
  {
   "cell_type": "code",
   "execution_count": 23,
   "metadata": {
    "collapsed": false
   },
   "outputs": [
    {
     "name": "stdout",
     "output_type": "stream",
     "text": [
      "hstack: \n",
      "[1 2 3 2 3 4]\n",
      "stack a.flat \n",
      "[[1 2]\n",
      " [2 3]\n",
      " [3 4]]\n",
      "stack without flat \n",
      "[[1 2]\n",
      " [2 3]\n",
      " [3 4]]\n",
      "zip \n",
      "[(1, 2), (2, 3), (3, 4)]\n"
     ]
    }
   ],
   "source": [
    "a=np.array([1,2,3])\n",
    "b=np.array([2,3,4])\n",
    "print 'hstack: \\n',np.hstack((a,b))\n",
    "print 'stack a.flat \\n', np.stack((a.flat,b.flat),axis=1)\n",
    "print 'stack without flat \\n', np.stack((a,b),axis=1) #对于输入是1 D,有没有flat都一样\n",
    "print 'zip \\n', zip(a,b)"
   ]
  },
  {
   "cell_type": "code",
   "execution_count": 26,
   "metadata": {
    "collapsed": false
   },
   "outputs": [
    {
     "name": "stdout",
     "output_type": "stream",
     "text": [
      "hstack: \n",
      "[[1 1 2 2]\n",
      " [2 2 3 3]\n",
      " [3 3 4 4]]\n"
     ]
    }
   ],
   "source": [
    "a = np.array([[1,1],[2,2],[3,3]])\n",
    "b = np.array([[2],[3],[4]])\n",
    "c = np.array([[2],[3],[4]])\n",
    "print 'hstack: \\n',np.hstack((a,b,c))\n",
    "#print 'stack a.flat \\n', np.stack((a.flat,b.flat),axis=1)\n",
    "#print 'stack without flat \\n', np.stack((a,b),axis=1) #对于输入是1 D,有没有flat都一样\n",
    "#print 'zip \\n', zip(a,b)"
   ]
  },
  {
   "cell_type": "markdown",
   "metadata": {},
   "source": [
    "# np.linspace(a,b,points) 与 np.arrange(a,b,interval)区别"
   ]
  },
  {
   "cell_type": "code",
   "execution_count": 3,
   "metadata": {
    "collapsed": false
   },
   "outputs": [
    {
     "name": "stdout",
     "output_type": "stream",
     "text": [
      "[ 0.    0.01  0.02  0.03  0.04  0.05  0.06  0.07  0.08  0.09]\n",
      "[ 0.          0.01111111  0.02222222  0.03333333  0.04444444  0.05555556\n",
      "  0.06666667  0.07777778  0.08888889  0.1       ]\n"
     ]
    }
   ],
   "source": [
    "x = np.arange(0.0, 0.1, 0.01) #not include 0.1\n",
    "x1= np.linspace(0.0, 0.1,10)  #include 0.1\n",
    "print x\n",
    "print x1"
   ]
  }
 ],
 "metadata": {
  "anaconda-cloud": {},
  "kernelspec": {
   "display_name": "Python [default]",
   "language": "python",
   "name": "python2"
  },
  "language_info": {
   "codemirror_mode": {
    "name": "ipython",
    "version": 2
   },
   "file_extension": ".py",
   "mimetype": "text/x-python",
   "name": "python",
   "nbconvert_exporter": "python",
   "pygments_lexer": "ipython2",
   "version": "2.7.12"
  }
 },
 "nbformat": 4,
 "nbformat_minor": 1
}
