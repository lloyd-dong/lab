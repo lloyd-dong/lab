{
 "cells": [
  {
   "cell_type": "code",
   "execution_count": 3,
   "metadata": {
    "collapsed": false
   },
   "outputs": [],
   "source": [
    "import collections\n",
    "layer = collections.namedtuple('layer',['name','path'])"
   ]
  },
  {
   "cell_type": "code",
   "execution_count": 23,
   "metadata": {
    "collapsed": false
   },
   "outputs": [
    {
     "name": "stdout",
     "output_type": "stream",
     "text": [
      "[] []\n",
      "['a1', 'a2'] ['/data/root-1/a1', '/data/root-1/a2']\n",
      "layer(name=['a1', 'a2'], path=['/data/root-1/a1', '/data/root-1/a2'])\n"
     ]
    }
   ],
   "source": [
    "a = layer(name=[],path=[])\n",
    "print a[0], a.name\n",
    "a[0].append('a1')\n",
    "a[1].append('/data/root-1/a1')\n",
    "# a.name.append['a1']\n",
    "# a.path.append['/data/root-1/a1']\n",
    "a[0].append('a2')\n",
    "a[1].append('/data/root-1/a2')\n",
    "print a.name, a.path\n",
    "print  a"
   ]
  },
  {
   "cell_type": "code",
   "execution_count": 28,
   "metadata": {
    "collapsed": false
   },
   "outputs": [
    {
     "name": "stdout",
     "output_type": "stream",
     "text": [
      "[layer(name='a1', path='hdfs://a1'), layer(name='a2', path='hdfs://a2')]\n",
      "['a1', 'a2']\n",
      "['hdfs://a1', 'hdfs://a2']\n"
     ]
    }
   ],
   "source": [
    "layers = []\n",
    "layers.append(layer('a1','hdfs://a1'))\n",
    "layers.append(layer('a2','hdfs://a2'))\n",
    "print layers\n",
    "\n",
    "layer_names =[ x.name for x in layers]\n",
    "print layer_names\n",
    "layer_path = [ x.path for x in layers]\n",
    "print layer_path"
   ]
  },
  {
   "cell_type": "code",
   "execution_count": 29,
   "metadata": {
    "collapsed": false
   },
   "outputs": [
    {
     "ename": "ImportError",
     "evalue": "No module named jason",
     "output_type": "error",
     "traceback": [
      "\u001b[0;31m---------------------------------------------------------------------------\u001b[0m",
      "\u001b[0;31mImportError\u001b[0m                               Traceback (most recent call last)",
      "\u001b[0;32m<ipython-input-29-d5b881b8a860>\u001b[0m in \u001b[0;36m<module>\u001b[0;34m()\u001b[0m\n\u001b[0;32m----> 1\u001b[0;31m \u001b[0;32mimport\u001b[0m \u001b[0mjason\u001b[0m\u001b[0;34m\u001b[0m\u001b[0m\n\u001b[0m\u001b[1;32m      2\u001b[0m \u001b[0;32mimport\u001b[0m \u001b[0mrequests\u001b[0m\u001b[0;34m\u001b[0m\u001b[0m\n\u001b[1;32m      3\u001b[0m \u001b[0mcontent\u001b[0m \u001b[0;34m=\u001b[0m \u001b[0mrequest\u001b[0m\u001b[0;34m.\u001b[0m\u001b[0mget\u001b[0m\u001b[0;34m(\u001b[0m\u001b[0;34m\"https://arches.geo.apple.com\"\u001b[0m \u001b[0;34m+\u001b[0m \u001b[0;34m\"/api/v1/data_source_configs/Hadron\"\u001b[0m\u001b[0;34m)\u001b[0m\u001b[0;34m\u001b[0m\u001b[0m\n\u001b[1;32m      4\u001b[0m \u001b[0;32mprint\u001b[0m \u001b[0mjson\u001b[0m\u001b[0;34m.\u001b[0m\u001b[0mload\u001b[0m\u001b[0;34m(\u001b[0m\u001b[0mcontent\u001b[0m\u001b[0;34m)\u001b[0m\u001b[0;34m[\u001b[0m\u001b[0;34m'id'\u001b[0m\u001b[0;34m]\u001b[0m\u001b[0;34m\u001b[0m\u001b[0m\n",
      "\u001b[0;31mImportError\u001b[0m: No module named jason"
     ]
    }
   ],
   "source": [
    "import json\n",
    "import requests\n",
    "content = request.get(\"https://arches.geo.apple.com\" + \"/api/v1/data_source_configs/Hadron\")\n",
    "print json.load(content)['id']\n"
   ]
  }
 ],
 "metadata": {
  "kernelspec": {
   "display_name": "Python 2",
   "language": "python",
   "name": "python2"
  },
  "language_info": {
   "codemirror_mode": {
    "name": "ipython",
    "version": 2
   },
   "file_extension": ".py",
   "mimetype": "text/x-python",
   "name": "python",
   "nbconvert_exporter": "python",
   "pygments_lexer": "ipython2",
   "version": "2.7.13"
  }
 },
 "nbformat": 4,
 "nbformat_minor": 2
}
