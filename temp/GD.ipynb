{
 "cells": [
  {
   "cell_type": "markdown",
   "metadata": {},
   "source": [
    "推导梯度下降"
   ]
  },
  {
   "cell_type": "code",
   "execution_count": 1,
   "metadata": {
    "collapsed": true
   },
   "outputs": [],
   "source": [
    "import numpy as np"
   ]
  },
  {
   "cell_type": "code",
   "execution_count": null,
   "metadata": {
    "collapsed": true
   },
   "outputs": [],
   "source": [
    "def calcCoefficient(data,listA,listW,listLostFunciton):\n",
    "    N=len(data[0]) #维度，多少个 theta\n",
    "    w= [0, for i in range(N)]\n",
    "    wNew=[0 for i in range(N)]\n",
    "    g= [0 for i in range(N)]\n",
    "    \n",
    "    times=0\n",
    "    alpha=100.0 #学习率 随意初始化\n",
    "    while times < 10000:\n",
    "        j=0\n",
    "        while j<N:\n",
    "            g[j]=gradient(data,w,j)\n",
    "            j +=1\n",
    "        normalize(g) #????\n",
    "        alpha=calcAlpha(alpha,g,wNew)\n",
    "        \n",
    "        print \"times, alpha, fw, w, g: \\t\", times, alpha, fw(w,data),w,g\n",
    "        if isSame(w,wNew):\n",
    "            break\n",
    "        assign2(w, wNew)\n",
    "        times +=1\n",
    "        \n",
    "        listA.append(alpha)\n",
    "        listW.append(assign(w))\n",
    "        listLostFunciton.append(fw(w,data))\n",
    "    return w"
   ]
  },
  {
   "cell_type": "code",
   "execution_count": null,
   "metadata": {
    "collapsed": true
   },
   "outputs": [],
   "source": [
    "# w theta 当前值; g当前梯度方向; a 学习率\n",
    "def calApha(w,g,a,data):\n",
    "    c1=0.3\n",
    "    now=fw(w,data)\n",
    "    wNext=assign(w)\n",
    "    numberProduct(a,g.wNext)\n",
    "    next = fw(wNext,data)\n",
    "    \n",
    "    #寻找足够大的a, 使得 h(a)>0\n",
    "    count=30\n",
    "    while next< now:\n",
    "        a *=2\n",
    "        wNext= assign(w)\n",
    "        numberProduct(a,g,wNext)\n",
    "        next=fw(wNext,data)\n",
    "        count -=1\n",
    "        if count ==0:\n",
    "            break\n",
    "    #寻找合适的学习率\n",
    "    count=50\n",
    "    while next >now-c1*a*dotProduct(g,g):\n",
    "        a /=2\n",
    "        wNext=assign(w)\n",
    "        numberProduct(a,g,wNext)\n",
    "        next = fw(wNext, data)\n",
    "        \n",
    "        count -=1\n",
    "        if count ==0:\n",
    "            break\n",
    "    return a"
   ]
  },
  {
   "cell_type": "code",
   "execution_count": null,
   "metadata": {
    "collapsed": true
   },
   "outputs": [],
   "source": [
    "#w 当前值 ; g当前梯度方向; a 学习率\n",
    "def calcAlphaStochastic(w,g,a,data):\n",
    "    c1 =0.01 #因为梦么样本都下降，所以参数运行度大些，激进些\n",
    "    now = faStochatic(w,data)\n",
    "    wNext=assign(w)\n",
    "    numberProduct(a,g,wNext)\n",
    "    next = fwStochastic(wNext, data)\n",
    "    \n",
    "    count=30\n",
    "    while next<now:\n",
    "        if a< 1e-10:\n",
    "            a=0.01\n",
    "        else:\n",
    "            a *=2\n",
    "        wNext = assign(w)\n",
    "        numberProduct(a,g,wNext)\n",
    "        next=fwStochastic(wNext, data)\n",
    "        count -=1\n",
    "        if count ==0:\n",
    "            break\n",
    "            \n",
    "        count =50\n",
    "        while next > now - c1*a*dotProduct(g,g):\n",
    "            a /=2\n",
    "            wNext = assign(w)\n",
    "            numberProduct(a,g,wNext)\n",
    "            next = fwStochastic(wNext, data)\n",
    "            count -=1\n",
    "            if count ==0:\n",
    "                break\n",
    "        return a"
   ]
  },
  {
   "cell_type": "code",
   "execution_count": null,
   "metadata": {
    "collapsed": true
   },
   "outputs": [],
   "source": [
    "def regression(data, alhpa, lamda):\n",
    "    n= len(data[0])-1\n",
    "    theta = np.zeros(n)\n",
    "    for times in range(100):\n",
    "        for d in data:\n",
    "            x= d[:-1]\n",
    "            y=d[-1]\n",
    "            g = np.dot(theta,x) - y\n",
    "            theta = theta-alpha *g*x + lamda* theta\n",
    "        print times, theta\n",
    "    return theta"
   ]
  }
 ],
 "metadata": {
  "anaconda-cloud": {},
  "kernelspec": {
   "display_name": "Python [default]",
   "language": "python",
   "name": "python2"
  },
  "language_info": {
   "codemirror_mode": {
    "name": "ipython",
    "version": 2
   },
   "file_extension": ".py",
   "mimetype": "text/x-python",
   "name": "python",
   "nbconvert_exporter": "python",
   "pygments_lexer": "ipython2",
   "version": "2.7.12"
  }
 },
 "nbformat": 4,
 "nbformat_minor": 1
}
