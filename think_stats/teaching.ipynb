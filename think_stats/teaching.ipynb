{
 "cells": [
  {
   "cell_type": "markdown",
   "metadata": {},
   "source": [
    "# test programm"
   ]
  },
  {
   "cell_type": "markdown",
   "metadata": {},
   "source": [
    "#蒙特卡洛法 求 π"
   ]
  },
  {
   "cell_type": "code",
   "execution_count": 53,
   "metadata": {
    "collapsed": false
   },
   "outputs": [
    {
     "name": "stdout",
     "output_type": "stream",
     "text": [
      "3.6\n"
     ]
    }
   ],
   "source": [
    "import matplotlib.pyplot as plt\n",
    "import random\n",
    "\n",
    "in_circle=[]\n",
    "out_circle=[]\n",
    "total_points=1000\n",
    "\n",
    "for i in range(total_points):\n",
    "    x=random.random()\n",
    "    y=random.random()\n",
    "    r2=x**2 + y**2\n",
    "\n",
    "    if r2<1:\n",
    "        in_circle.append((x,y))\n",
    "    else:\n",
    "        out_circle.append((x,y))\n",
    "\n",
    "pi = 4.0*len(in_circle)/total_points\n",
    "print pi\n",
    "\n",
    "plt.plot([x[0] for x in in_circle],[y[1] for y in in_circle], 'r^')\n",
    "plt.plot([x[0] for x in out_circle],[a[1] for a in out_circle], 'bo')\n",
    "plt.show()"
   ]
  },
  {
   "cell_type": "markdown",
   "metadata": {},
   "source": [
    "##练习"
   ]
  },
  {
   "cell_type": "code",
   "execution_count": 44,
   "metadata": {
    "collapsed": false
   },
   "outputs": [
    {
     "name": "stdout",
     "output_type": "stream",
     "text": [
      "i= 0  total= 1\n",
      "i= 1  total= 2\n",
      "i= 2  total= 4\n",
      "i= 3  total= 7\n",
      "i= 4  total= 11\n",
      "i= 5  total= 16\n",
      "i= 6  total= 22\n",
      "i= 7  total= 29\n",
      "i= 8  total= 37\n",
      "i= 9  total= 46\n",
      "i= 10  total= 56\n",
      "i= 11  total= 67\n",
      "i= 12  total= 79\n",
      "i= 13  total= 92\n",
      "i= 14  total= 106\n",
      "i= 15  total= 121\n",
      "i= 16  total= 137\n",
      "i= 17  total= 154\n",
      "i= 18  total= 172\n",
      "i= 19  total= 191\n",
      "i= 20  total= 211\n",
      "i= 21  total= 232\n",
      "i= 22  total= 254\n",
      "i= 23  total= 277\n",
      "i= 24  total= 301\n",
      "i= 25  total= 326\n",
      "i= 26  total= 352\n",
      "i= 27  total= 379\n",
      "i= 28  total= 407\n",
      "i= 29  total= 436\n",
      "i= 30  total= 466\n",
      "i= 31  total= 497\n",
      "i= 32  total= 529\n",
      "i= 33  total= 562\n",
      "i= 34  total= 596\n",
      "i= 35  total= 631\n",
      "i= 36  total= 667\n",
      "i= 37  total= 704\n",
      "i= 38  total= 742\n",
      "i= 39  total= 781\n",
      "i= 40  total= 821\n",
      "i= 41  total= 862\n",
      "i= 42  total= 904\n",
      "i= 43  total= 947\n",
      "i= 44  total= 991\n",
      "i= 45  total= 1036\n",
      "i= 46  total= 1082\n",
      "i= 47  total= 1129\n",
      "i= 48  total= 1177\n",
      "i= 49  total= 1226\n",
      "i= 50  total= 1276\n",
      "i= 51  total= 1327\n",
      "i= 52  total= 1379\n",
      "i= 53  total= 1432\n",
      "i= 54  total= 1486\n",
      "i= 55  total= 1541\n",
      "i= 56  total= 1597\n",
      "i= 57  total= 1654\n",
      "i= 58  total= 1712\n",
      "i= 59  total= 1771\n",
      "i= 60  total= 1831\n",
      "i= 61  total= 1892\n",
      "i= 62  total= 1954\n",
      "i= 63  total= 2017\n",
      "i= 64  total= 2081\n",
      "i= 65  total= 2146\n",
      "i= 66  total= 2212\n",
      "i= 67  total= 2279\n",
      "i= 68  total= 2347\n",
      "i= 69  total= 2416\n",
      "i= 70  total= 2486\n",
      "i= 71  total= 2557\n",
      "i= 72  total= 2629\n",
      "i= 73  total= 2702\n",
      "i= 74  total= 2776\n",
      "i= 75  total= 2851\n",
      "i= 76  total= 2927\n",
      "i= 77  total= 3004\n",
      "i= 78  total= 3082\n",
      "i= 79  total= 3161\n",
      "i= 80  total= 3241\n",
      "i= 81  total= 3322\n",
      "i= 82  total= 3404\n",
      "i= 83  total= 3487\n",
      "i= 84  total= 3571\n",
      "i= 85  total= 3656\n",
      "i= 86  total= 3742\n",
      "i= 87  total= 3829\n",
      "i= 88  total= 3917\n",
      "i= 89  total= 4006\n",
      "i= 90  total= 4096\n",
      "i= 91  total= 4187\n",
      "i= 92  total= 4279\n",
      "i= 93  total= 4372\n",
      "i= 94  total= 4466\n",
      "i= 95  total= 4561\n",
      "i= 96  total= 4657\n",
      "i= 97  total= 4754\n",
      "i= 98  total= 4852\n",
      "i= 99  total= 4951\n",
      "i= 100  total= 5051\n"
     ]
    }
   ],
   "source": [
    "boy=['Tiger','zhb','nn','minghao']\n",
    "boy.append('zhanghanbo') \n",
    "\n",
    "total_points=101\n",
    "total=0\n",
    "for i i n range(total_points):\n",
    "    total=total+i\n",
    "    print 'i=',i,' total=',total"
   ]
  },
  {
   "cell_type": "code",
   "execution_count": 2,
   "metadata": {
    "collapsed": false
   },
   "outputs": [],
   "source": [
    "import turtle\n",
    "import time\n",
    "turtle.forward(100)\n",
    "turtle.right(144)\n",
    "time.sleep(1)\n",
    "turtle.forward(100)\n",
    "turtle.right(144)\n",
    "time.sleep(1)\n",
    "turtle.forward(100)\n",
    "turtle.right(144)\n",
    "turtle.forward(100)\n",
    "time.sleep(1)\n",
    "turtle.right(144)\n",
    "turtle.forward(100)\n",
    "time.sleep(3)\n",
    "turtle.exitonclick()  "
   ]
  }
 ],
 "metadata": {
  "kernelspec": {
   "display_name": "Python 2",
   "language": "python",
   "name": "python2"
  },
  "language_info": {
   "codemirror_mode": {
    "name": "ipython",
    "version": 2
   },
   "file_extension": ".py",
   "mimetype": "text/x-python",
   "name": "python",
   "nbconvert_exporter": "python",
   "pygments_lexer": "ipython2",
   "version": "2.7.9"
  }
 },
 "nbformat": 4,
 "nbformat_minor": 0
}
