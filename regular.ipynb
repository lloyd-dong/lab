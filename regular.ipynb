{
 "cells": [
  {
   "cell_type": "code",
   "execution_count": 1,
   "metadata": {
    "collapsed": true
   },
   "outputs": [],
   "source": [
    "import re\n"
   ]
  },
  {
   "cell_type": "code",
   "execution_count": 9,
   "metadata": {
    "collapsed": true
   },
   "outputs": [],
   "source": [
    "def get_offline_layer_and_format(layer_name):\n",
    "    str_layer_name = str(layer_name)\n",
    "    vdm = re.compile('^vdm-composite-(?P<version>[0-9]+)$')\n",
    "    tdm = re.compile('^tdm-traffic-(?P<version>[0-9]+)$')\n",
    "\n",
    "    vdm_match = vdm.match(str_layer_name)\n",
    "    if vdm_match is not None:\n",
    "        return (103, vdm_match.group('version'), True)\n",
    "\n",
    "    tdm_match =  tdm.match(str_layer_name)\n",
    "    if tdm_match is not None:\n",
    "        return (500, tdm_match.group('version'), False)\n",
    "\n",
    "    return None"
   ]
  },
  {
   "cell_type": "code",
   "execution_count": 22,
   "metadata": {
    "collapsed": false
   },
   "outputs": [
    {
     "data": {
      "text/plain": [
       "(500, '1', False)"
      ]
     },
     "execution_count": 22,
     "metadata": {},
     "output_type": "execute_result"
    }
   ],
   "source": [
    "get_offline_layer_and_format(\"tdm-traffic-1\")"
   ]
  },
  {
   "cell_type": "code",
   "execution_count": 16,
   "metadata": {
    "collapsed": false
   },
   "outputs": [],
   "source": [
    "def get_offline_layer_and_format_0(layer_name):\n",
    "\n",
    "    #str_layer_name = str(layer_name)\n",
    "    vdm = re.compile('^vdm-composite-(?P<version>[0-9]+)$')\n",
    "    tdm = re.compile('^tdm-traffic$')\n",
    "    #tdm = re.compile('^tdm-traffic-(?P<version>[0-9]+)$')\n",
    "\n",
    "    vdm_match = vdm.match(layer_name)\n",
    "    #vdm_match = vdm.match(str_layer_name)\n",
    "    if vdm_match is not None:\n",
    "        return (103, vdm_match.group('version'), True)\n",
    "\n",
    "    tdm_match =  tdm.match(layer_name)\n",
    "    #tdm_match =  tdm.match(str_layer_name)\n",
    "    if tdm_match is not None:\n",
    "        return (500, 1, False)\n",
    "        #return (500, tdm_match.group('version'), False)\n",
    "\n",
    "    return None"
   ]
  },
  {
   "cell_type": "code",
   "execution_count": 20,
   "metadata": {
    "collapsed": false
   },
   "outputs": [],
   "source": [
    "get_offline_layer_and_format_0(\"tdm-traffic-1\") #返回空"
   ]
  }
 ],
 "metadata": {
  "kernelspec": {
   "display_name": "Python 2",
   "language": "python",
   "name": "python2"
  },
  "language_info": {
   "codemirror_mode": {
    "name": "ipython",
    "version": 2
   },
   "file_extension": ".py",
   "mimetype": "text/x-python",
   "name": "python",
   "nbconvert_exporter": "python",
   "pygments_lexer": "ipython2",
   "version": "2.7.13"
  }
 },
 "nbformat": 4,
 "nbformat_minor": 2
}
